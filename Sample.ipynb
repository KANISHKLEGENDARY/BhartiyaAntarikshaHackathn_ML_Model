{
 "cells": [
  {
   "cell_type": "code",
   "execution_count": null,
   "id": "1af72cd3",
   "metadata": {},
   "outputs": [
    {
     "data": {
      "text/plain": [
       "Index(['Timestamp', 'PM2.5 (µg/m³)', 'PM10 (µg/m³)', 'NO (µg/m³)',\n",
       "       'NO2 (µg/m³)', 'NOx (ppb)', 'NH3 (µg/m³)', 'SO2 (µg/m³)', 'CO (mg/m³)',\n",
       "       'Ozone (µg/m³)', 'Benzene (µg/m³)', 'Toluene (µg/m³)', 'Xylene (µg/m³)',\n",
       "       'O Xylene (µg/m³)', 'Eth-Benzene (µg/m³)', 'MP-Xylene (µg/m³)',\n",
       "       'AT (°C)', 'RH (%)', 'WS (m/s)', 'WD (deg)', 'RF (mm)', 'TOT-RF (mm)',\n",
       "       'SR (W/mt2)', 'BP (mmHg)', 'VWS (m/s)'],\n",
       "      dtype='object')"
      ]
     },
     "execution_count": 33,
     "metadata": {},
     "output_type": "execute_result"
    }
   ],
   "source": [
    "#Importing the necessary libraries and loading the dataset\n",
    "import pandas as pd\n",
    "df = pd.read_csv(\"City_wise_raw_data_1Hr_2024_Faridabad_1Hr.csv\")\n",
    "df.head()\n",
    "df.columns"
   ]
  },
  {
   "cell_type": "code",
   "execution_count": null,
   "id": "13dc1abb",
   "metadata": {},
   "outputs": [
    {
     "name": "stdout",
     "output_type": "stream",
     "text": [
      "<class 'pandas.core.frame.DataFrame'>\n",
      "RangeIndex: 8784 entries, 0 to 8783\n",
      "Data columns (total 25 columns):\n",
      " #   Column               Non-Null Count  Dtype  \n",
      "---  ------               --------------  -----  \n",
      " 0   Timestamp            8784 non-null   object \n",
      " 1   PM2.5 (µg/m³)        8776 non-null   float64\n",
      " 2   PM10 (µg/m³)         8763 non-null   float64\n",
      " 3   NO (µg/m³)           8780 non-null   float64\n",
      " 4   NO2 (µg/m³)          8780 non-null   float64\n",
      " 5   NOx (ppb)            8782 non-null   float64\n",
      " 6   NH3 (µg/m³)          8776 non-null   float64\n",
      " 7   SO2 (µg/m³)          8739 non-null   float64\n",
      " 8   CO (mg/m³)           8782 non-null   float64\n",
      " 9   Ozone (µg/m³)        8772 non-null   float64\n",
      " 10  Benzene (µg/m³)      8782 non-null   float64\n",
      " 11  Toluene (µg/m³)      8781 non-null   float64\n",
      " 12  Xylene (µg/m³)       8775 non-null   float64\n",
      " 13  O Xylene (µg/m³)     0 non-null      float64\n",
      " 14  Eth-Benzene (µg/m³)  8775 non-null   float64\n",
      " 15  MP-Xylene (µg/m³)    8778 non-null   float64\n",
      " 16  AT (°C)              8625 non-null   float64\n",
      " 17  RH (%)               8639 non-null   float64\n",
      " 18  WS (m/s)             8781 non-null   float64\n",
      " 19  WD (deg)             8781 non-null   float64\n",
      " 20  RF (mm)              8782 non-null   float64\n",
      " 21  TOT-RF (mm)          8784 non-null   float64\n",
      " 22  SR (W/mt2)           8311 non-null   float64\n",
      " 23  BP (mmHg)            5223 non-null   float64\n",
      " 24  VWS (m/s)            6070 non-null   float64\n",
      "dtypes: float64(24), object(1)\n",
      "memory usage: 1.7+ MB\n"
     ]
    }
   ],
   "source": [
    "#EDA\n",
    "df.info()\n",
    "df.isnull().sum()\n",
    "\n",
    "#Checking for the Outliers\n",
    "df = df[['Timestamp','PM2.5 (µg/m³)','PM10 (µg/m³)']]\n",
    "df['PM2.5 (µg/m³)'] = pd.to_numeric(df['PM2.5 (µg/m³)'], errors='coerce')\n",
    "df['PM10 (µg/m³)'] = pd.to_numeric(df['PM10 (µg/m³)'], errors='coerce')\n",
    "df = df[(df['PM2.5 (µg/m³)'] <= 1000) & (df['PM10 (µg/m³)'] <= 1000)]\n",
    "\n",
    "#Cleaning the dataset and filling the null values with median values in PM2.5 and PM10 columns\n",
    "df = df.fillna(df.median(numeric_only=True))"
   ]
  },
  {
   "cell_type": "code",
   "execution_count": null,
   "id": "1ba0414e",
   "metadata": {},
   "outputs": [],
   "source": [
    "#Changing the Timestamp dtype from string to datetime\n",
    "df['Timestamp'] = pd.to_datetime(df['Timestamp'])\n",
    "\n",
    "#Droping the null values\n",
    "df = df.dropna(subset=['Timestamp'])\n",
    "df = df.set_index('Timestamp')\n",
    "\n",
    "# Group by day\n",
    "daily_df = df.resample('D').mean().reset_index()\n",
    "\n",
    "# Save cleaned daily data\n",
    "daily_df.to_csv(\"cleaned_daily_pm_fbd.csv\", index=False)\n"
   ]
  }
 ],
 "metadata": {
  "kernelspec": {
   "display_name": "Python 3",
   "language": "python",
   "name": "python3"
  },
  "language_info": {
   "codemirror_mode": {
    "name": "ipython",
    "version": 3
   },
   "file_extension": ".py",
   "mimetype": "text/x-python",
   "name": "python",
   "nbconvert_exporter": "python",
   "pygments_lexer": "ipython3",
   "version": "3.12.0"
  }
 },
 "nbformat": 4,
 "nbformat_minor": 5
}
